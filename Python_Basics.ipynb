{
  "nbformat": 4,
  "nbformat_minor": 0,
  "metadata": {
    "colab": {
      "name": "Python Basics",
      "provenance": [],
      "authorship_tag": "ABX9TyNOHk7B785LN9KJaomB9kjq",
      "include_colab_link": true
    },
    "kernelspec": {
      "name": "python3",
      "display_name": "Python 3"
    }
  },
  "cells": [
    {
      "cell_type": "markdown",
      "metadata": {
        "id": "view-in-github",
        "colab_type": "text"
      },
      "source": [
        "<a href=\"https://colab.research.google.com/github/siddheshmisale/Kaggle-Course-Learnings/blob/main/Python_Basics.ipynb\" target=\"_parent\"><img src=\"https://colab.research.google.com/assets/colab-badge.svg\" alt=\"Open In Colab\"/></a>"
      ]
    },
    {
      "cell_type": "code",
      "metadata": {
        "id": "iv6NMS7HpTVD"
      },
      "source": [
        "#Lamdas in Filter\r\n",
        "\r\n",
        "sequences = [10,2,8,7,5,4,3,11,0, 1]\r\n",
        "filtered_result = filter (lambda x: x > 4, sequences) \r\n",
        "print(list(filtered_result))\r\n",
        "\r\n",
        "\r\n",
        "#Immediately Callable lambda\r\n",
        "\r\n",
        "x=\"some kind of a useless lambda\"\r\n",
        "(lambda x : print(x))(x)\r\n",
        "\r\n",
        "\r\n",
        "sequences = [10,2,8,7,5,4,3,11,0, 1]\r\n",
        "filtered_result = map (lambda x: x*x, sequences) \r\n",
        "print(list(filtered_result))\r\n",
        "\r\n",
        "\r\n",
        "from functools import reduce\r\n",
        "sequences = [1,2,3,4,5]\r\n",
        "product = reduce (lambda x, y: x*y, sequences)\r\n",
        "print(product)\r\n",
        "\r\n",
        "\r\n",
        "def make_pretty(func):\r\n",
        "    def inner():\r\n",
        "        print(\"I got decorated\")\r\n",
        "        func()\r\n",
        "    return inner\r\n",
        "\r\n",
        "\r\n",
        "def ordinary():\r\n",
        "    print(\"I am ordinary\")\r\n",
        "\r\n",
        "\r\n",
        "ordinary()\r\n",
        "\r\n",
        "# let's decorate this ordinary function\r\n",
        "pretty = make_pretty(ordinary)\r\n",
        "pretty()\r\n",
        "\r\n",
        "\r\n",
        "\r\n",
        "@make_pretty\r\n",
        "def ordinary():\r\n",
        "    print(\"I am ordinary\")\r\n",
        "\r\n",
        "# def ordinary():\r\n",
        "#     print(\"I am ordinary\")\r\n",
        "# ordinary = make_pretty(ordinary)    \r\n",
        "\r\n",
        "\r\n",
        "ordinary()\r\n",
        "\r\n",
        "\r\n",
        "# A new list with memory location\r\n",
        "myList = [\"Orange\", \"Apple\",\"Grapes\"]\r\n",
        "\r\n",
        "# Function to add an item to the list\r\n",
        "def addItem(myTempList):\r\n",
        "    myTempList.append(\"Mango\")\r\n",
        "    print(myTempList)\r\n",
        "# Print the original list\r\n",
        "addItem(myList)\r\n",
        "print(myList)\r\n",
        "\r\n",
        "myInt = 45\r\n",
        "print(\"myInt\",id(myInt))\r\n",
        "mySecondInt = myInt\r\n",
        "print(\"mySecondInt\",id(mySecondInt))\r\n",
        "myInt = 10\r\n",
        "print(\"myInt\",id(myInt))\r\n",
        "myInt += 23\r\n",
        "print(\"myInt\",id(myInt))\r\n",
        "\r\n",
        "\r\n",
        "myInt = 5\r\n",
        "def addNumber(myNum):\r\n",
        "    myNum += 10\r\n",
        "    print(myNum)\r\n",
        "    print(\"Memory Address of myNum\",id(myNum))\r\n",
        "    \r\n",
        "addNumber(myInt)\r\n",
        "print(myInt)\r\n",
        "print(\"Memory Address of myInt\",id(myInt))"
      ],
      "execution_count": null,
      "outputs": []
    },
    {
      "cell_type": "markdown",
      "metadata": {
        "id": "kwL1yf_Dp5jc"
      },
      "source": [
        "NUMPY\r\n"
      ]
    },
    {
      "cell_type": "code",
      "metadata": {
        "id": "o5yI6ev2pyJR"
      },
      "source": [
        "import numpy as np\r\n",
        "np.arange(10)\r\n",
        "np."
      ],
      "execution_count": null,
      "outputs": []
    }
  ]
}