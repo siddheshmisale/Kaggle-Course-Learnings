{
  "nbformat": 4,
  "nbformat_minor": 0,
  "metadata": {
    "colab": {
      "name": "Python Basics - Lambda, Numpy",
      "provenance": [],
      "collapsed_sections": [],
      "authorship_tag": "ABX9TyP3z5H0Hwa3Ku3NekKxyKCj",
      "include_colab_link": true
    },
    "kernelspec": {
      "name": "python3",
      "display_name": "Python 3"
    }
  },
  "cells": [
    {
      "cell_type": "markdown",
      "metadata": {
        "id": "view-in-github",
        "colab_type": "text"
      },
      "source": [
        "<a href=\"https://colab.research.google.com/github/siddheshmisale/Kaggle-Course-Learnings/blob/main/Python_Basics_Lambda%2C_Numpy.ipynb\" target=\"_parent\"><img src=\"https://colab.research.google.com/assets/colab-badge.svg\" alt=\"Open In Colab\"/></a>"
      ]
    },
    {
      "cell_type": "code",
      "metadata": {
        "id": "iv6NMS7HpTVD"
      },
      "source": [
        "#Lambdas in Filter\r\n",
        "\r\n",
        "sequences = [10,2,8,7,5,4,3,11,0, 1]\r\n",
        "filtered_result = filter (lambda x: x > 4, sequences) \r\n",
        "print(list(filtered_result))\r\n",
        "\r\n",
        "\r\n",
        "#Immediately Callable lambda\r\n",
        "\r\n",
        "x=\"some kind of a useless lambda\"\r\n",
        "(lambda x : print(x))(x)\r\n",
        "\r\n",
        "\r\n",
        "sequences = [10,2,8,7,5,4,3,11,0, 1]\r\n",
        "filtered_result = map (lambda x: x*x, sequences) \r\n",
        "print(list(filtered_result))\r\n",
        "\r\n",
        "\r\n",
        "from functools import reduce\r\n",
        "sequences = [1,2,3,4,5]\r\n",
        "product = reduce (lambda x, y: x*y, sequences)\r\n",
        "print(product)\r\n",
        "\r\n",
        "\r\n",
        "def make_pretty(func):\r\n",
        "    def inner():\r\n",
        "        print(\"I got decorated\")\r\n",
        "        func()\r\n",
        "    return inner\r\n",
        "\r\n",
        "\r\n",
        "def ordinary():\r\n",
        "    print(\"I am ordinary\")\r\n",
        "\r\n",
        "\r\n",
        "ordinary()\r\n",
        "\r\n",
        "# let's decorate this ordinary function\r\n",
        "pretty = make_pretty(ordinary)\r\n",
        "pretty()\r\n",
        "\r\n",
        "\r\n",
        "\r\n",
        "@make_pretty\r\n",
        "def ordinary():\r\n",
        "    print(\"I am ordinary\")\r\n",
        "\r\n",
        "# def ordinary():\r\n",
        "#     print(\"I am ordinary\")\r\n",
        "# ordinary = make_pretty(ordinary)    \r\n",
        "\r\n",
        "\r\n",
        "ordinary()\r\n",
        "\r\n",
        "\r\n",
        "# A new list with memory location\r\n",
        "myList = [\"Orange\", \"Apple\",\"Grapes\"]\r\n",
        "\r\n",
        "# Function to add an item to the list\r\n",
        "def addItem(myTempList):\r\n",
        "    myTempList.append(\"Mango\")\r\n",
        "    print(myTempList)\r\n",
        "# Print the original list\r\n",
        "addItem(myList)\r\n",
        "print(myList)\r\n",
        "\r\n",
        "myInt = 45\r\n",
        "print(\"myInt\",id(myInt))\r\n",
        "mySecondInt = myInt\r\n",
        "print(\"mySecondInt\",id(mySecondInt))\r\n",
        "myInt = 10\r\n",
        "print(\"myInt\",id(myInt))\r\n",
        "myInt += 23\r\n",
        "print(\"myInt\",id(myInt))\r\n",
        "\r\n",
        "\r\n",
        "myInt = 5\r\n",
        "def addNumber(myNum):\r\n",
        "    myNum += 10\r\n",
        "    print(myNum)\r\n",
        "    print(\"Memory Address of myNum\",id(myNum))\r\n",
        "    \r\n",
        "addNumber(myInt)\r\n",
        "print(myInt)\r\n",
        "print(\"Memory Address of myInt\",id(myInt))"
      ],
      "execution_count": null,
      "outputs": []
    },
    {
      "cell_type": "markdown",
      "metadata": {
        "id": "kwL1yf_Dp5jc"
      },
      "source": [
        "NUMPY\r\n"
      ]
    },
    {
      "cell_type": "code",
      "metadata": {
        "id": "o5yI6ev2pyJR"
      },
      "source": [
        "import numpy as np\r\n",
        "a = np.array([1,2,3])"
      ],
      "execution_count": 19,
      "outputs": []
    },
    {
      "cell_type": "code",
      "metadata": {
        "id": "a7wq2vai__SE",
        "colab": {
          "base_uri": "https://localhost:8080/"
        },
        "outputId": "909914b5-1092-437b-96f5-2d0e2afd4b3e"
      },
      "source": [
        "\r\n"
      ],
      "execution_count": 20,
      "outputs": [
        {
          "output_type": "execute_result",
          "data": {
            "text/plain": [
              "array([1, 2, 3])"
            ]
          },
          "metadata": {
            "tags": []
          },
          "execution_count": 20
        }
      ]
    },
    {
      "cell_type": "code",
      "metadata": {
        "colab": {
          "base_uri": "https://localhost:8080/"
        },
        "id": "0b7HgNKyUarY",
        "outputId": "f98a2a66-5c5a-452e-be3d-9a297700679b"
      },
      "source": [
        "a**2\r\n"
      ],
      "execution_count": 26,
      "outputs": [
        {
          "output_type": "execute_result",
          "data": {
            "text/plain": [
              "array([1, 4, 9])"
            ]
          },
          "metadata": {
            "tags": []
          },
          "execution_count": 26
        }
      ]
    },
    {
      "cell_type": "code",
      "metadata": {
        "colab": {
          "base_uri": "https://localhost:8080/"
        },
        "id": "GAw9BkArUv7B",
        "outputId": "4d08cfd9-abf2-45c8-f1e2-d931adbaafb9"
      },
      "source": [
        "np.sqrt(a)\r\n",
        "np.exp(a)\r\n",
        "np.log(a)"
      ],
      "execution_count": 28,
      "outputs": [
        {
          "output_type": "execute_result",
          "data": {
            "text/plain": [
              "array([0.        , 0.69314718, 1.09861229])"
            ]
          },
          "metadata": {
            "tags": []
          },
          "execution_count": 28
        }
      ]
    },
    {
      "cell_type": "code",
      "metadata": {
        "colab": {
          "base_uri": "https://localhost:8080/"
        },
        "id": "YkQxBMA4VDEb",
        "outputId": "f9cfdcda-fa50-47b2-fa0a-407105e75c16"
      },
      "source": [
        "#dot product\r\n",
        "\r\n",
        "a = np.array([1,2,3])\r\n",
        "b = np.array([4,5,6])\r\n",
        "dot = 0\r\n",
        "for i,j in zip(a,b):\r\n",
        "  dot += i*j\r\n",
        "\r\n",
        "dot\r\n"
      ],
      "execution_count": 29,
      "outputs": [
        {
          "output_type": "execute_result",
          "data": {
            "text/plain": [
              "32"
            ]
          },
          "metadata": {
            "tags": []
          },
          "execution_count": 29
        }
      ]
    },
    {
      "cell_type": "code",
      "metadata": {
        "colab": {
          "base_uri": "https://localhost:8080/"
        },
        "id": "I1EAqGbFVvs-",
        "outputId": "428663c2-56d9-40b9-ee80-88ca6b5ccb6b"
      },
      "source": [
        "np.sum(a*b)\r\n"
      ],
      "execution_count": 32,
      "outputs": [
        {
          "output_type": "execute_result",
          "data": {
            "text/plain": [
              "32"
            ]
          },
          "metadata": {
            "tags": []
          },
          "execution_count": 32
        }
      ]
    },
    {
      "cell_type": "code",
      "metadata": {
        "colab": {
          "base_uri": "https://localhost:8080/"
        },
        "id": "vJzIqx-zV2yT",
        "outputId": "6de65fb5-2074-46fc-fc32-6591129d4202"
      },
      "source": [
        "(a*b).sum()"
      ],
      "execution_count": 31,
      "outputs": [
        {
          "output_type": "execute_result",
          "data": {
            "text/plain": [
              "32"
            ]
          },
          "metadata": {
            "tags": []
          },
          "execution_count": 31
        }
      ]
    },
    {
      "cell_type": "code",
      "metadata": {
        "colab": {
          "base_uri": "https://localhost:8080/"
        },
        "id": "QqT8GUniV89E",
        "outputId": "16ca2c8d-0008-4f57-fe53-ab04c2ffe31f"
      },
      "source": [
        "np.dot(a,b)"
      ],
      "execution_count": 33,
      "outputs": [
        {
          "output_type": "execute_result",
          "data": {
            "text/plain": [
              "32"
            ]
          },
          "metadata": {
            "tags": []
          },
          "execution_count": 33
        }
      ]
    },
    {
      "cell_type": "code",
      "metadata": {
        "colab": {
          "base_uri": "https://localhost:8080/"
        },
        "id": "16dqk9QhV_dC",
        "outputId": "6b79ffaf-bd93-4053-ac30-dcd38d9bc645"
      },
      "source": [
        "(a).dot(b)"
      ],
      "execution_count": 35,
      "outputs": [
        {
          "output_type": "execute_result",
          "data": {
            "text/plain": [
              "32"
            ]
          },
          "metadata": {
            "tags": []
          },
          "execution_count": 35
        }
      ]
    },
    {
      "cell_type": "code",
      "metadata": {
        "colab": {
          "base_uri": "https://localhost:8080/"
        },
        "id": "QYaZ11QpWHUA",
        "outputId": "e84444d7-12a1-4637-a403-5d7b57a375b8"
      },
      "source": [
        "a @ b"
      ],
      "execution_count": 36,
      "outputs": [
        {
          "output_type": "execute_result",
          "data": {
            "text/plain": [
              "32"
            ]
          },
          "metadata": {
            "tags": []
          },
          "execution_count": 36
        }
      ]
    },
    {
      "cell_type": "code",
      "metadata": {
        "id": "kLr_BKhzWbZZ"
      },
      "source": [
        "#mag of vector:\r\n",
        "\r\n",
        "amag = np.linalg.norm(a)\r\n",
        "bmag = np.linalg.norm(b)"
      ],
      "execution_count": 37,
      "outputs": []
    },
    {
      "cell_type": "code",
      "metadata": {
        "id": "f_8w6sZDldyE"
      },
      "source": [
        "#How to create a boolean array?\r\n",
        "\r\n",
        "np.full()"
      ],
      "execution_count": null,
      "outputs": []
    }
  ]
}